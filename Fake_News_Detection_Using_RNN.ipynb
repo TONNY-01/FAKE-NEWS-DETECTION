{
  "metadata": {
    "kernelspec": {
      "language": "python",
      "display_name": "Python 3",
      "name": "python3"
    },
    "language_info": {
      "pygments_lexer": "ipython3",
      "nbconvert_exporter": "python",
      "version": "3.6.4",
      "file_extension": ".py",
      "codemirror_mode": {
        "name": "ipython",
        "version": 3
      },
      "name": "python",
      "mimetype": "text/x-python"
    },
    "colab": {
      "name": "Fake News Detection Using RNN",
      "provenance": [],
      "include_colab_link": true
    }
  },
  "nbformat_minor": 0,
  "nbformat": 4,
  "cells": [
    {
      "cell_type": "markdown",
      "metadata": {
        "id": "view-in-github",
        "colab_type": "text"
      },
      "source": [
        "<a href=\"https://colab.research.google.com/github/TONNY-01/FAKE-NEWS-DETECTION/blob/main/Fake_News_Detection_Using_RNN.ipynb\" target=\"_parent\"><img src=\"https://colab.research.google.com/assets/colab-badge.svg\" alt=\"Open In Colab\"/></a>"
      ]
    },
    {
      "cell_type": "code",
      "source": [
        "import pandas as pd\n",
        "import matplotlib.pyplot as plt\n",
        "import numpy as np\n",
        "import tensorflow as tf\n",
        "import re\n",
        "from tensorflow.keras.preprocessing.text import Tokenizer\n",
        "import tensorflow as tf\n",
        "from sklearn.metrics import accuracy_score\n",
        "from sklearn.model_selection import train_test_split\n",
        "from sklearn.metrics import accuracy_score, confusion_matrix, precision_score, recall_score\n",
        "import seaborn as sns\n",
        "plt.style.use('ggplot')"
      ],
      "metadata": {
        "_uuid": "8f2839f25d086af736a60e9eeb907d3b93b6e0e5",
        "_cell_guid": "b1076dfc-b9ad-4769-8c92-a6c4dae69d19",
        "execution": {
          "iopub.status.busy": "2021-12-06T15:44:44.352188Z",
          "iopub.execute_input": "2021-12-06T15:44:44.352522Z",
          "iopub.status.idle": "2021-12-06T15:44:49.157863Z",
          "shell.execute_reply.started": "2021-12-06T15:44:44.35249Z",
          "shell.execute_reply": "2021-12-06T15:44:49.157025Z"
        },
        "trusted": true,
        "id": "UBhx4ktraWqH"
      },
      "execution_count": null,
      "outputs": []
    },
    {
      "cell_type": "markdown",
      "source": [
        "Read the data"
      ],
      "metadata": {
        "id": "umyieOZ6aWqI"
      }
    },
    {
      "cell_type": "code",
      "source": [
        "fake_df = pd.read_csv('../input/fake-and-real-news-dataset/Fake.csv')\n",
        "real_df = pd.read_csv('../input/fake-and-real-news-dataset/True.csv')"
      ],
      "metadata": {
        "_uuid": "d629ff2d2480ee46fbb7e2d37f6b5fab8052498a",
        "_cell_guid": "79c7e3d0-c299-4dcb-8224-4455121ee9b0",
        "execution": {
          "iopub.status.busy": "2021-12-06T15:44:49.159927Z",
          "iopub.execute_input": "2021-12-06T15:44:49.160432Z",
          "iopub.status.idle": "2021-12-06T15:44:51.45956Z",
          "shell.execute_reply.started": "2021-12-06T15:44:49.160378Z",
          "shell.execute_reply": "2021-12-06T15:44:51.458783Z"
        },
        "trusted": true,
        "id": "DghlsKahaWqI"
      },
      "execution_count": null,
      "outputs": []
    },
    {
      "cell_type": "markdown",
      "source": [
        "Checking for null values"
      ],
      "metadata": {
        "id": "mA8dwnRVaWqI"
      }
    },
    {
      "cell_type": "code",
      "source": [
        "fake_df.isnull().sum()"
      ],
      "metadata": {
        "execution": {
          "iopub.status.busy": "2021-12-06T15:44:51.462981Z",
          "iopub.execute_input": "2021-12-06T15:44:51.463238Z",
          "iopub.status.idle": "2021-12-06T15:44:51.483272Z",
          "shell.execute_reply.started": "2021-12-06T15:44:51.463212Z",
          "shell.execute_reply": "2021-12-06T15:44:51.482271Z"
        },
        "trusted": true,
        "id": "jOOIUbKaaWqI"
      },
      "execution_count": null,
      "outputs": []
    },
    {
      "cell_type": "code",
      "source": [
        "real_df.isnull().sum()"
      ],
      "metadata": {
        "execution": {
          "iopub.status.busy": "2021-12-06T15:44:51.484725Z",
          "iopub.execute_input": "2021-12-06T15:44:51.485338Z",
          "iopub.status.idle": "2021-12-06T15:44:51.504944Z",
          "shell.execute_reply.started": "2021-12-06T15:44:51.485298Z",
          "shell.execute_reply": "2021-12-06T15:44:51.503978Z"
        },
        "trusted": true,
        "id": "iHvpnC4JaWqJ"
      },
      "execution_count": null,
      "outputs": []
    },
    {
      "cell_type": "markdown",
      "source": [
        "Checking for unique values for subject. We want both data frames to have a similar distribution."
      ],
      "metadata": {
        "id": "6K88zseOaWqJ"
      }
    },
    {
      "cell_type": "code",
      "source": [
        "fake_df.subject.unique()"
      ],
      "metadata": {
        "execution": {
          "iopub.status.busy": "2021-12-06T15:44:51.509028Z",
          "iopub.execute_input": "2021-12-06T15:44:51.509612Z",
          "iopub.status.idle": "2021-12-06T15:44:51.519941Z",
          "shell.execute_reply.started": "2021-12-06T15:44:51.509571Z",
          "shell.execute_reply": "2021-12-06T15:44:51.518901Z"
        },
        "trusted": true,
        "id": "THAEeaPGaWqJ"
      },
      "execution_count": null,
      "outputs": []
    },
    {
      "cell_type": "code",
      "source": [
        "real_df.subject.unique()"
      ],
      "metadata": {
        "execution": {
          "iopub.status.busy": "2021-12-06T15:44:51.523155Z",
          "iopub.execute_input": "2021-12-06T15:44:51.523799Z",
          "iopub.status.idle": "2021-12-06T15:44:51.531787Z",
          "shell.execute_reply.started": "2021-12-06T15:44:51.52376Z",
          "shell.execute_reply": "2021-12-06T15:44:51.530989Z"
        },
        "trusted": true,
        "id": "que1KDg_aWqK"
      },
      "execution_count": null,
      "outputs": []
    },
    {
      "cell_type": "markdown",
      "source": [
        "Drop the date from the dataset, I don't think there is a strong correlation between date and validity of the news. As we see above, subjects are not distributed evenly. We do not want that to influence the accuracy of our classifier. Therefore, we need to drop that as well."
      ],
      "metadata": {
        "id": "FqMC505paWqK"
      }
    },
    {
      "cell_type": "code",
      "source": [
        "fake_df.drop(['date', 'subject'], axis=1, inplace=True)\n",
        "real_df.drop(['date', 'subject'], axis=1, inplace=True)"
      ],
      "metadata": {
        "execution": {
          "iopub.status.busy": "2021-12-06T15:44:51.533212Z",
          "iopub.execute_input": "2021-12-06T15:44:51.533698Z",
          "iopub.status.idle": "2021-12-06T15:44:51.547417Z",
          "shell.execute_reply.started": "2021-12-06T15:44:51.533662Z",
          "shell.execute_reply": "2021-12-06T15:44:51.546728Z"
        },
        "trusted": true,
        "id": "TX9768q6aWqK"
      },
      "execution_count": null,
      "outputs": []
    },
    {
      "cell_type": "markdown",
      "source": [
        "0 for fake news, and 1 for real news"
      ],
      "metadata": {
        "id": "rddxohkpaWqK"
      }
    },
    {
      "cell_type": "code",
      "source": [
        "fake_df['class'] = 0\n",
        "real_df['class'] = 1"
      ],
      "metadata": {
        "execution": {
          "iopub.status.busy": "2021-12-06T15:44:51.550496Z",
          "iopub.execute_input": "2021-12-06T15:44:51.550738Z",
          "iopub.status.idle": "2021-12-06T15:44:51.555578Z",
          "shell.execute_reply.started": "2021-12-06T15:44:51.550714Z",
          "shell.execute_reply": "2021-12-06T15:44:51.554798Z"
        },
        "trusted": true,
        "id": "jfmx_9DiaWqK"
      },
      "execution_count": null,
      "outputs": []
    },
    {
      "cell_type": "markdown",
      "source": [
        "Check out the distribution of fake news compare to real news"
      ],
      "metadata": {
        "id": "453kjN9JaWqK"
      }
    },
    {
      "cell_type": "code",
      "source": [
        "plt.figure(figsize=(10, 5))\n",
        "plt.bar('Fake News', len(fake_df), color='orange')\n",
        "plt.bar('Real News', len(real_df), color='green')\n",
        "plt.title('Distribution of Fake News and Real News', size=15)\n",
        "plt.xlabel('News Type', size=15)\n",
        "plt.ylabel('# of News Articles', size=15)\n",
        "\n",
        "\n",
        "total_len = len(fake_df) + len(real_df)\n",
        "plt.figure(figsize=(10, 5))\n",
        "plt.bar('Fake News', len(fake_df) / total_len, color='orange')\n",
        "plt.bar('Real News', len(real_df) / total_len, color='green')\n",
        "plt.title('Distribution of Fake News and Real News', size=15)\n",
        "plt.xlabel('News Type', size=15)\n",
        "plt.ylabel('Proportion of News Articles', size=15)"
      ],
      "metadata": {
        "execution": {
          "iopub.status.busy": "2021-12-06T15:44:51.557151Z",
          "iopub.execute_input": "2021-12-06T15:44:51.557714Z",
          "iopub.status.idle": "2021-12-06T15:44:51.808023Z",
          "shell.execute_reply.started": "2021-12-06T15:44:51.557605Z",
          "shell.execute_reply": "2021-12-06T15:44:51.807128Z"
        },
        "trusted": true,
        "id": "zj62hSXtaWqK"
      },
      "execution_count": null,
      "outputs": []
    },
    {
      "cell_type": "code",
      "source": [
        "print('Difference in news articles:',len(fake_df)-len(real_df))"
      ],
      "metadata": {
        "execution": {
          "iopub.status.busy": "2021-12-06T15:44:51.809321Z",
          "iopub.execute_input": "2021-12-06T15:44:51.809941Z",
          "iopub.status.idle": "2021-12-06T15:44:51.81669Z",
          "shell.execute_reply.started": "2021-12-06T15:44:51.809899Z",
          "shell.execute_reply": "2021-12-06T15:44:51.815397Z"
        },
        "trusted": true,
        "id": "EKg1QKtvaWqL"
      },
      "execution_count": null,
      "outputs": []
    },
    {
      "cell_type": "code",
      "source": [
        "news_df = pd.concat([fake_df, real_df], ignore_index=True, sort=False)\n",
        "news_df"
      ],
      "metadata": {
        "execution": {
          "iopub.status.busy": "2021-12-06T15:44:51.818305Z",
          "iopub.execute_input": "2021-12-06T15:44:51.819006Z",
          "iopub.status.idle": "2021-12-06T15:44:51.841204Z",
          "shell.execute_reply.started": "2021-12-06T15:44:51.818964Z",
          "shell.execute_reply": "2021-12-06T15:44:51.840368Z"
        },
        "trusted": true,
        "id": "NYUNwn72aWqL"
      },
      "execution_count": null,
      "outputs": []
    },
    {
      "cell_type": "markdown",
      "source": [
        "Combining the title with the text, it is much easier to process this way."
      ],
      "metadata": {
        "id": "hm1gofi5aWqL"
      }
    },
    {
      "cell_type": "code",
      "source": [
        "news_df['text'] = news_df['title'] + news_df['text']\n",
        "news_df.drop('title', axis=1, inplace=True)"
      ],
      "metadata": {
        "execution": {
          "iopub.status.busy": "2021-12-06T15:44:51.842629Z",
          "iopub.execute_input": "2021-12-06T15:44:51.843013Z",
          "iopub.status.idle": "2021-12-06T15:44:52.000602Z",
          "shell.execute_reply.started": "2021-12-06T15:44:51.842976Z",
          "shell.execute_reply": "2021-12-06T15:44:51.99977Z"
        },
        "trusted": true,
        "id": "HAtrguFgaWqL"
      },
      "execution_count": null,
      "outputs": []
    },
    {
      "cell_type": "markdown",
      "source": [
        "Split into training and testing"
      ],
      "metadata": {
        "id": "V4s_A7YcaWqL"
      }
    },
    {
      "cell_type": "code",
      "source": [
        "features = news_df['text']\n",
        "targets = news_df['class']\n",
        "\n",
        "X_train, X_test, y_train, y_test = train_test_split(features, targets, test_size=0.20, random_state=18)"
      ],
      "metadata": {
        "execution": {
          "iopub.status.busy": "2021-12-06T15:44:52.002035Z",
          "iopub.execute_input": "2021-12-06T15:44:52.002386Z",
          "iopub.status.idle": "2021-12-06T15:44:52.01529Z",
          "shell.execute_reply.started": "2021-12-06T15:44:52.00235Z",
          "shell.execute_reply": "2021-12-06T15:44:52.014506Z"
        },
        "trusted": true,
        "id": "EIB8A_5vaWqL"
      },
      "execution_count": null,
      "outputs": []
    },
    {
      "cell_type": "markdown",
      "source": [
        "Normalizing our data: lower case, get rid of extra spaces, and url links."
      ],
      "metadata": {
        "id": "PxpymT77aWqM"
      }
    },
    {
      "cell_type": "code",
      "source": [
        "def normalize(data):\n",
        "    normalized = []\n",
        "    for i in data:\n",
        "        i = i.lower()\n",
        "        # get rid of urls\n",
        "        i = re.sub('https?://\\S+|www\\.\\S+', '', i)\n",
        "        # get rid of non words and extra spaces\n",
        "        i = re.sub('\\\\W', ' ', i)\n",
        "        i = re.sub('\\n', '', i)\n",
        "        i = re.sub(' +', ' ', i)\n",
        "        i = re.sub('^ ', '', i)\n",
        "        i = re.sub(' $', '', i)\n",
        "        normalized.append(i)\n",
        "    return normalized\n",
        "\n",
        "X_train = normalize(X_train)\n",
        "X_test = normalize(X_test)"
      ],
      "metadata": {
        "execution": {
          "iopub.status.busy": "2021-12-06T15:44:52.018141Z",
          "iopub.execute_input": "2021-12-06T15:44:52.018508Z",
          "iopub.status.idle": "2021-12-06T15:45:12.49293Z",
          "shell.execute_reply.started": "2021-12-06T15:44:52.018474Z",
          "shell.execute_reply": "2021-12-06T15:45:12.492034Z"
        },
        "trusted": true,
        "id": "N3xJn9hEaWqM"
      },
      "execution_count": null,
      "outputs": []
    },
    {
      "cell_type": "code",
      "source": [
        "max_vocab = 10000\n",
        "tokenizer = Tokenizer(num_words=max_vocab)\n",
        "tokenizer.fit_on_texts(X_train)"
      ],
      "metadata": {
        "execution": {
          "iopub.status.busy": "2021-12-06T15:45:12.494218Z",
          "iopub.execute_input": "2021-12-06T15:45:12.494586Z",
          "iopub.status.idle": "2021-12-06T15:45:22.534183Z",
          "shell.execute_reply.started": "2021-12-06T15:45:12.49455Z",
          "shell.execute_reply": "2021-12-06T15:45:22.533276Z"
        },
        "trusted": true,
        "id": "z6YGP0BSaWqM"
      },
      "execution_count": null,
      "outputs": []
    },
    {
      "cell_type": "markdown",
      "source": [
        "Convert text to vectors, our classifier only takes numerical data."
      ],
      "metadata": {
        "id": "wisjr0fKaWqM"
      }
    },
    {
      "cell_type": "code",
      "source": [
        "# tokenize the text into vectors\n",
        "X_train = tokenizer.texts_to_sequences(X_train)\n",
        "X_test = tokenizer.texts_to_sequences(X_test)"
      ],
      "metadata": {
        "execution": {
          "iopub.status.busy": "2021-12-06T15:45:22.535581Z",
          "iopub.execute_input": "2021-12-06T15:45:22.535928Z",
          "iopub.status.idle": "2021-12-06T15:45:33.756378Z",
          "shell.execute_reply.started": "2021-12-06T15:45:22.535893Z",
          "shell.execute_reply": "2021-12-06T15:45:33.755585Z"
        },
        "trusted": true,
        "id": "xK4Tdc2HaWqM"
      },
      "execution_count": null,
      "outputs": []
    },
    {
      "cell_type": "markdown",
      "source": [
        "Apply padding so we have the same length for each article"
      ],
      "metadata": {
        "id": "NAj0UBkOaWqM"
      }
    },
    {
      "cell_type": "code",
      "source": [
        "X_train = tf.keras.preprocessing.sequence.pad_sequences(X_train, padding='post', maxlen=256)\n",
        "X_test = tf.keras.preprocessing.sequence.pad_sequences(X_test, padding='post', maxlen=256)"
      ],
      "metadata": {
        "execution": {
          "iopub.status.busy": "2021-12-06T15:45:33.757995Z",
          "iopub.execute_input": "2021-12-06T15:45:33.758309Z",
          "iopub.status.idle": "2021-12-06T15:45:35.90012Z",
          "shell.execute_reply.started": "2021-12-06T15:45:33.758274Z",
          "shell.execute_reply": "2021-12-06T15:45:35.899291Z"
        },
        "trusted": true,
        "id": "QeunXIHYaWqM"
      },
      "execution_count": null,
      "outputs": []
    },
    {
      "cell_type": "markdown",
      "source": [
        "Building the RNN."
      ],
      "metadata": {
        "id": "Kg8vzp3OaWqN"
      }
    },
    {
      "cell_type": "code",
      "source": [
        "model = tf.keras.Sequential([\n",
        "    tf.keras.layers.Embedding(max_vocab, 128),\n",
        "    tf.keras.layers.Bidirectional(tf.keras.layers.LSTM(64,  return_sequences=True)),\n",
        "    tf.keras.layers.Bidirectional(tf.keras.layers.LSTM(16)),\n",
        "    tf.keras.layers.Dense(64, activation='relu'),\n",
        "    tf.keras.layers.Dropout(0.5),\n",
        "    tf.keras.layers.Dense(1)\n",
        "])\n",
        "\n",
        "model.summary()"
      ],
      "metadata": {
        "execution": {
          "iopub.status.busy": "2021-12-06T15:45:35.901619Z",
          "iopub.execute_input": "2021-12-06T15:45:35.901965Z",
          "iopub.status.idle": "2021-12-06T15:45:39.10148Z",
          "shell.execute_reply.started": "2021-12-06T15:45:35.901927Z",
          "shell.execute_reply": "2021-12-06T15:45:39.100729Z"
        },
        "trusted": true,
        "id": "FTWKKxXuaWqN"
      },
      "execution_count": null,
      "outputs": []
    },
    {
      "cell_type": "markdown",
      "source": [
        "We are going to use early stop, which stops when the validation loss no longer improve."
      ],
      "metadata": {
        "id": "hZ0MJIybaWqN"
      }
    },
    {
      "cell_type": "code",
      "source": [
        "early_stop = tf.keras.callbacks.EarlyStopping(monitor='val_loss', patience=2, restore_best_weights=True)\n",
        "model.compile(loss=tf.keras.losses.BinaryCrossentropy(from_logits=True),\n",
        "              optimizer=tf.keras.optimizers.Adam(1e-4),\n",
        "              metrics=['accuracy'])\n",
        "\n",
        "history = model.fit(X_train, y_train, epochs=10,validation_split=0.1, batch_size=30, shuffle=True, callbacks=[early_stop])"
      ],
      "metadata": {
        "execution": {
          "iopub.status.busy": "2021-12-06T15:45:39.10476Z",
          "iopub.execute_input": "2021-12-06T15:45:39.105023Z",
          "iopub.status.idle": "2021-12-06T15:49:40.730575Z",
          "shell.execute_reply.started": "2021-12-06T15:45:39.104997Z",
          "shell.execute_reply": "2021-12-06T15:49:40.726662Z"
        },
        "trusted": true,
        "id": "gngHUzrzaWqN"
      },
      "execution_count": null,
      "outputs": []
    },
    {
      "cell_type": "markdown",
      "source": [
        "Visualize our training over time"
      ],
      "metadata": {
        "id": "pfRKL0ALaWqN"
      }
    },
    {
      "cell_type": "code",
      "source": [
        "history_dict = history.history\n",
        "\n",
        "acc = history_dict['accuracy']\n",
        "val_acc = history_dict['val_accuracy']\n",
        "loss = history_dict['loss']\n",
        "val_loss = history_dict['val_loss']\n",
        "epochs = history.epoch\n",
        "\n",
        "plt.figure(figsize=(12,9))\n",
        "plt.plot(epochs, loss, 'r', label='Training loss')\n",
        "plt.plot(epochs, val_loss, 'b', label='Validation loss')\n",
        "plt.title('Training and validation loss', size=20)\n",
        "plt.xlabel('Epochs', size=20)\n",
        "plt.ylabel('Loss', size=20)\n",
        "plt.legend(prop={'size': 20})\n",
        "plt.show()\n",
        "\n",
        "plt.figure(figsize=(12,9))\n",
        "plt.plot(epochs, acc, 'g', label='Training acc')\n",
        "plt.plot(epochs, val_acc, 'b', label='Validation acc')\n",
        "plt.title('Training and validation accuracy', size=20)\n",
        "plt.xlabel('Epochs', size=20)\n",
        "plt.ylabel('Accuracy', size=20)\n",
        "plt.legend(prop={'size': 20})\n",
        "plt.ylim((0.5,1))\n",
        "plt.show()"
      ],
      "metadata": {
        "execution": {
          "iopub.status.busy": "2021-12-06T15:49:40.742113Z",
          "iopub.execute_input": "2021-12-06T15:49:40.744556Z",
          "iopub.status.idle": "2021-12-06T15:49:41.096267Z",
          "shell.execute_reply.started": "2021-12-06T15:49:40.74451Z",
          "shell.execute_reply": "2021-12-06T15:49:41.095425Z"
        },
        "trusted": true,
        "id": "CzvwKvFpaWqO"
      },
      "execution_count": null,
      "outputs": []
    },
    {
      "cell_type": "markdown",
      "source": [
        "Evaluate the testing set"
      ],
      "metadata": {
        "id": "vgiPv66XaWqO"
      }
    },
    {
      "cell_type": "code",
      "source": [
        "model.evaluate(X_test, y_test)"
      ],
      "metadata": {
        "execution": {
          "iopub.status.busy": "2021-12-06T15:49:41.097619Z",
          "iopub.execute_input": "2021-12-06T15:49:41.097967Z",
          "iopub.status.idle": "2021-12-06T15:49:46.581968Z",
          "shell.execute_reply.started": "2021-12-06T15:49:41.097929Z",
          "shell.execute_reply": "2021-12-06T15:49:46.581272Z"
        },
        "trusted": true,
        "id": "UUtV7TuWaWqO"
      },
      "execution_count": null,
      "outputs": []
    },
    {
      "cell_type": "code",
      "source": [
        "pred = model.predict(X_test)\n",
        "\n",
        "binary_predictions = []\n",
        "\n",
        "for i in pred:\n",
        "    if i >= 0.5:\n",
        "        binary_predictions.append(1)\n",
        "    else:\n",
        "        binary_predictions.append(0)"
      ],
      "metadata": {
        "execution": {
          "iopub.status.busy": "2021-12-06T15:49:46.584957Z",
          "iopub.execute_input": "2021-12-06T15:49:46.585215Z",
          "iopub.status.idle": "2021-12-06T15:49:52.723685Z",
          "shell.execute_reply.started": "2021-12-06T15:49:46.585189Z",
          "shell.execute_reply": "2021-12-06T15:49:52.722769Z"
        },
        "trusted": true,
        "id": "IX_kJBhDaWqO"
      },
      "execution_count": null,
      "outputs": []
    },
    {
      "cell_type": "code",
      "source": [
        "print('Accuracy on testing set:', accuracy_score(binary_predictions, y_test))\n",
        "print('Precision on testing set:', precision_score(binary_predictions, y_test))\n",
        "print('Recall on testing set:', recall_score(binary_predictions, y_test))"
      ],
      "metadata": {
        "execution": {
          "iopub.status.busy": "2021-12-06T15:49:52.725132Z",
          "iopub.execute_input": "2021-12-06T15:49:52.725492Z",
          "iopub.status.idle": "2021-12-06T15:49:52.768425Z",
          "shell.execute_reply.started": "2021-12-06T15:49:52.725453Z",
          "shell.execute_reply": "2021-12-06T15:49:52.767631Z"
        },
        "trusted": true,
        "id": "4RtYZZDcaWqP"
      },
      "execution_count": null,
      "outputs": []
    },
    {
      "cell_type": "markdown",
      "source": [
        "Confusion matrix"
      ],
      "metadata": {
        "id": "xtvRcC74aWqP"
      }
    },
    {
      "cell_type": "code",
      "source": [
        "matrix = confusion_matrix(binary_predictions, y_test, normalize='all')\n",
        "plt.figure(figsize=(16, 10))\n",
        "ax= plt.subplot()\n",
        "sns.heatmap(matrix, annot=True, ax = ax)\n",
        "\n",
        "# labels, title and ticks\n",
        "ax.set_xlabel('Predicted Labels', size=20)\n",
        "ax.set_ylabel('True Labels', size=20)\n",
        "ax.set_title('Confusion Matrix', size=20)\n",
        "ax.xaxis.set_ticklabels([0,1], size=15)\n",
        "ax.yaxis.set_ticklabels([0,1], size=15)"
      ],
      "metadata": {
        "execution": {
          "iopub.status.busy": "2021-12-06T15:49:52.769734Z",
          "iopub.execute_input": "2021-12-06T15:49:52.77007Z",
          "iopub.status.idle": "2021-12-06T15:49:52.982629Z",
          "shell.execute_reply.started": "2021-12-06T15:49:52.770038Z",
          "shell.execute_reply": "2021-12-06T15:49:52.981725Z"
        },
        "trusted": true,
        "id": "LdP38YjGaWqQ"
      },
      "execution_count": null,
      "outputs": []
    },
    {
      "cell_type": "markdown",
      "source": [
        "Saves the weights for visualiation"
      ],
      "metadata": {
        "id": "D0Mh5U9RaWqQ"
      }
    },
    {
      "cell_type": "code",
      "source": [
        "e = model.layers[0]\n",
        "weights = e.get_weights()[0]\n",
        "print(weights.shape) # shape: (vocab_size, embedding_dim)"
      ],
      "metadata": {
        "execution": {
          "iopub.status.busy": "2021-12-06T15:49:52.984347Z",
          "iopub.execute_input": "2021-12-06T15:49:52.984746Z",
          "iopub.status.idle": "2021-12-06T15:49:52.999228Z",
          "shell.execute_reply.started": "2021-12-06T15:49:52.984705Z",
          "shell.execute_reply": "2021-12-06T15:49:52.998321Z"
        },
        "trusted": true,
        "id": "UroUV4PEaWqQ"
      },
      "execution_count": null,
      "outputs": []
    },
    {
      "cell_type": "code",
      "source": [
        "word_index = list(tokenizer.word_index.keys())\n",
        "word_index = word_index[:max_vocab-1]"
      ],
      "metadata": {
        "execution": {
          "iopub.status.busy": "2021-12-06T15:49:53.000911Z",
          "iopub.execute_input": "2021-12-06T15:49:53.001275Z",
          "iopub.status.idle": "2021-12-06T15:49:53.013936Z",
          "shell.execute_reply.started": "2021-12-06T15:49:53.001238Z",
          "shell.execute_reply": "2021-12-06T15:49:53.013087Z"
        },
        "trusted": true,
        "id": "q66Onp2waWqQ"
      },
      "execution_count": null,
      "outputs": []
    },
    {
      "cell_type": "markdown",
      "source": [
        "Write to file so we can use tensorflow's embedding projector to visualize what our network learned. This is only based on the fake news dataset."
      ],
      "metadata": {
        "id": "fEsHrREkaWqR"
      }
    },
    {
      "cell_type": "code",
      "source": [
        "import io\n",
        "\n",
        "out_v = io.open('fakenews_vecs.tsv', 'w', encoding='utf-8')\n",
        "out_m = io.open('fakenews_meta.tsv', 'w', encoding='utf-8')\n",
        "\n",
        "for num, word in enumerate(word_index):\n",
        "  vec = weights[num+1] # skip 0, it's padding.\n",
        "  out_m.write(word + \"\\n\")\n",
        "  out_v.write('\\t'.join([str(x) for x in vec]) + \"\\n\")\n",
        "out_v.close()\n",
        "out_m.close()"
      ],
      "metadata": {
        "execution": {
          "iopub.status.busy": "2021-12-06T15:49:53.0162Z",
          "iopub.execute_input": "2021-12-06T15:49:53.017031Z",
          "iopub.status.idle": "2021-12-06T15:49:54.122814Z",
          "shell.execute_reply.started": "2021-12-06T15:49:53.016991Z",
          "shell.execute_reply": "2021-12-06T15:49:54.121953Z"
        },
        "trusted": true,
        "id": "72Pp1qbBaWqR"
      },
      "execution_count": null,
      "outputs": []
    },
    {
      "cell_type": "markdown",
      "source": [
        "Embedding Projector: http://projector.tensorflow.org/\n",
        "<br>Picture credits: https://www.tensorflow.org/tensorboard/images/embedding_projector.png?raw=1\n",
        "\n",
        "![](https://www.tensorflow.org/tensorboard/images/embedding_projector.png?raw=1)"
      ],
      "metadata": {
        "id": "bA3r_gMkaWqR"
      }
    }
  ]
}